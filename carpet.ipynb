{
 "cells": [
  {
   "cell_type": "code",
   "execution_count": 14,
   "metadata": {},
   "outputs": [],
   "source": [
    "import numpy as np\n",
    "import matplotlib.pyplot as plt"
   ]
  },
  {
   "cell_type": "code",
   "execution_count": 15,
   "metadata": {},
   "outputs": [],
   "source": [
    "a=[0,0]\n",
    "b=[9,0]\n",
    "c=[9,9]\n",
    "d=[0,9]"
   ]
  },
  {
   "cell_type": "code",
   "execution_count": 16,
   "metadata": {},
   "outputs": [],
   "source": [
    "def midpoint(a,b):\n",
    "    mid1 = (2*a[0] + b[0])/3 , (2*a[1] + b[1])/3\n",
    "    mid2 = (a[0] + 2*b[0])/3 , (a[1] + 2*b[1])/3\n",
    "    return mid1,mid2"
   ]
  },
  {
   "cell_type": "code",
   "execution_count": 17,
   "metadata": {},
   "outputs": [],
   "source": [
    "def rect(a,b,c,d):\n",
    "    plt.plot((a[0],b[0]),(a[1],b[1]))\n",
    "    plt.plot((b[0],c[0]),(b[1],c[1]))\n",
    "    plt.plot((c[0],d[0]),(c[1],d[1]))\n",
    "    plt.plot((d[0],a[0]),(d[1],a[1]))"
   ]
  },
  {
   "cell_type": "code",
   "execution_count": 20,
   "metadata": {},
   "outputs": [],
   "source": [
    "def carpet(a,b,c,d,n):\n",
    "    \n",
    "    rect(a,b,c,d)\n",
    "    \n",
    "    mid1,mid2 = midpoint(a,b)\n",
    "  \n",
    "    mid21,mid12 = midpoint(c,d)\n",
    "    \n",
    "    mid3,mid4 = midpoint(b,c)\n",
    "   \n",
    "    mid32,mid23 = midpoint(d,a)\n",
    "    \n",
    "    q = mid1[0],mid23[1]\n",
    "    r = mid2[0],mid3[1]\n",
    "    s = mid2[0],mid4[1]\n",
    "    t = mid1[0],mid32[1]\n",
    "    \n",
    "    n=n+1\n",
    "    \n",
    "    if n<4:  # IF n will be greater than 4 then it will take more than 10min to get output\n",
    "        rect(a,mid1,q,mid23)\n",
    "        carpet(a,mid1,q,mid23,n)\n",
    "        \n",
    "        rect(mid1,mid2,r,q)\n",
    "        carpet(mid1,mid2,r,q,n)\n",
    "        \n",
    "        rect(mid2,b,mid3,r)\n",
    "        carpet(mid2,b,mid3,r,n)\n",
    "        \n",
    "        rect(r,mid3,mid4,s)\n",
    "        carpet(r,mid3,mid4,s,n)\n",
    "        \n",
    "        rect(s,mid4,c,mid21)\n",
    "        carpet(s,mid4,c,mid21,n)\n",
    "        \n",
    "        rect(t,s,mid21,mid12)\n",
    "        carpet(t,s,mid21,mid12,n)\n",
    "        \n",
    "        rect(mid32,t,mid12,d)\n",
    "        carpet(mid32,t,mid12,d,n)\n",
    "        \n",
    "        rect(mid23,q,t,mid32)  \n",
    "        carpet(mid23,q,t,mid32,n)\n",
    "    \n",
    "    "
   ]
  },
  {
   "cell_type": "code",
   "execution_count": 21,
   "metadata": {},
   "outputs": [
    {
     "data": {
      "image/png": "[encoded data removed]",
      "text/plain": [
       "<Figure size 432x288 with 1 Axes>"
      ]
     },
     "metadata": {
      "needs_background": "light"
     },
     "output_type": "display_data"
    }
   ],
   "source": [
    "carpet(a,b,c,d,0)"
   ]
  },
  {
   "cell_type": "code",
   "execution_count": null,
   "metadata": {},
   "outputs": [],
   "source": []
  }
 ],
 "metadata": {
  "kernelspec": {
   "display_name": "Python 3",
   "language": "python",
   "name": "python3"
  },
  "language_info": {
   "codemirror_mode": {
    "name": "ipython",
    "version": 3
   },
   "file_extension": ".py",
   "mimetype": "text/x-python",
   "name": "python",
   "nbconvert_exporter": "python",
   "pygments_lexer": "ipython3",
   "version": "3.7.1"
  }
 },
 "nbformat": 4,
 "nbformat_minor": 2
}
